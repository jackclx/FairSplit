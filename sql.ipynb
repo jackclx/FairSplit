{
 "cells": [
  {
   "cell_type": "code",
   "execution_count": null,
   "metadata": {},
   "outputs": [
    {
     "ename": "KeyboardInterrupt",
     "evalue": "",
     "output_type": "error",
     "traceback": [
      "\u001b[0;31m---------------------------------------------------------------------------\u001b[0m",
      "\u001b[0;31mMySQLInterfaceError\u001b[0m                       Traceback (most recent call last)",
      "File \u001b[0;32m~/Library/Python/3.9/lib/python/site-packages/mysql/connector/connection_cext.py:308\u001b[0m, in \u001b[0;36mCMySQLConnection._open_connection\u001b[0;34m(self)\u001b[0m\n\u001b[1;32m    307\u001b[0m \u001b[39mtry\u001b[39;00m:\n\u001b[0;32m--> 308\u001b[0m     \u001b[39mself\u001b[39;49m\u001b[39m.\u001b[39;49m_cmysql\u001b[39m.\u001b[39;49mconnect(\u001b[39m*\u001b[39;49m\u001b[39m*\u001b[39;49mcnx_kwargs)\n\u001b[1;32m    309\u001b[0m     \u001b[39mself\u001b[39m\u001b[39m.\u001b[39m_cmysql\u001b[39m.\u001b[39mconverter_str_fallback \u001b[39m=\u001b[39m \u001b[39mself\u001b[39m\u001b[39m.\u001b[39m_converter_str_fallback\n",
      "\u001b[0;31mMySQLInterfaceError\u001b[0m: Can't connect to MySQL server on 'jackclx.mysql.pythonanywhere-services.com:3306' (56)",
      "\nDuring handling of the above exception, another exception occurred:\n",
      "\u001b[0;31mKeyboardInterrupt\u001b[0m                         Traceback (most recent call last)",
      "Cell \u001b[0;32mIn[7], line 19\u001b[0m\n\u001b[1;32m     16\u001b[0m     \u001b[39mreturn\u001b[39;00m connection\n\u001b[1;32m     18\u001b[0m \u001b[39m# connection = create_server_connection(\"localhost\", \"root\", '661063lt')\u001b[39;00m\n\u001b[0;32m---> 19\u001b[0m connection \u001b[39m=\u001b[39m create_server_connection(\u001b[39m\"\u001b[39;49m\u001b[39mjackclx.mysql.pythonanywhere-services.com\u001b[39;49m\u001b[39m\"\u001b[39;49m, \u001b[39m\"\u001b[39;49m\u001b[39mjackclx\u001b[39;49m\u001b[39m\"\u001b[39;49m, \u001b[39m'\u001b[39;49m\u001b[39m661063lt\u001b[39;49m\u001b[39m'\u001b[39;49m) \n\u001b[1;32m     21\u001b[0m \u001b[39mdef\u001b[39;00m \u001b[39mcreate_database\u001b[39m(connection, query):\n\u001b[1;32m     22\u001b[0m     cursor \u001b[39m=\u001b[39m connection\u001b[39m.\u001b[39mcursor()\n",
      "Cell \u001b[0;32mIn[7], line 7\u001b[0m, in \u001b[0;36mcreate_server_connection\u001b[0;34m(host_name, user_name, user_password)\u001b[0m\n\u001b[1;32m      5\u001b[0m connection \u001b[39m=\u001b[39m \u001b[39mNone\u001b[39;00m\n\u001b[1;32m      6\u001b[0m \u001b[39mtry\u001b[39;00m:\n\u001b[0;32m----> 7\u001b[0m     connection \u001b[39m=\u001b[39m mysql\u001b[39m.\u001b[39;49mconnector\u001b[39m.\u001b[39;49mconnect(\n\u001b[1;32m      8\u001b[0m         host\u001b[39m=\u001b[39;49mhost_name,\n\u001b[1;32m      9\u001b[0m         user\u001b[39m=\u001b[39;49muser_name,\n\u001b[1;32m     10\u001b[0m         passwd\u001b[39m=\u001b[39;49muser_password\n\u001b[1;32m     11\u001b[0m     )\n\u001b[1;32m     12\u001b[0m     \u001b[39mprint\u001b[39m(\u001b[39m\"\u001b[39m\u001b[39mMySQL Database connection successful\u001b[39m\u001b[39m\"\u001b[39m)\n\u001b[1;32m     13\u001b[0m \u001b[39mexcept\u001b[39;00m Error \u001b[39mas\u001b[39;00m err:\n",
      "File \u001b[0;32m~/Library/Python/3.9/lib/python/site-packages/mysql/connector/pooling.py:293\u001b[0m, in \u001b[0;36mconnect\u001b[0;34m(*args, **kwargs)\u001b[0m\n\u001b[1;32m    290\u001b[0m         \u001b[39mraise\u001b[39;00m \u001b[39mImportError\u001b[39;00m(ERROR_NO_CEXT)\n\u001b[1;32m    292\u001b[0m \u001b[39mif\u001b[39;00m CMySQLConnection \u001b[39mand\u001b[39;00m \u001b[39mnot\u001b[39;00m use_pure:\n\u001b[0;32m--> 293\u001b[0m     \u001b[39mreturn\u001b[39;00m CMySQLConnection(\u001b[39m*\u001b[39;49margs, \u001b[39m*\u001b[39;49m\u001b[39m*\u001b[39;49mkwargs)\n\u001b[1;32m    294\u001b[0m \u001b[39mreturn\u001b[39;00m MySQLConnection(\u001b[39m*\u001b[39margs, \u001b[39m*\u001b[39m\u001b[39m*\u001b[39mkwargs)\n",
      "File \u001b[0;32m~/Library/Python/3.9/lib/python/site-packages/mysql/connector/connection_cext.py:129\u001b[0m, in \u001b[0;36mCMySQLConnection.__init__\u001b[0;34m(self, **kwargs)\u001b[0m\n\u001b[1;32m    127\u001b[0m \u001b[39mif\u001b[39;00m kwargs:\n\u001b[1;32m    128\u001b[0m     \u001b[39mtry\u001b[39;00m:\n\u001b[0;32m--> 129\u001b[0m         \u001b[39mself\u001b[39;49m\u001b[39m.\u001b[39;49mconnect(\u001b[39m*\u001b[39;49m\u001b[39m*\u001b[39;49mkwargs)\n\u001b[1;32m    130\u001b[0m     \u001b[39mexcept\u001b[39;00m \u001b[39mException\u001b[39;00m:\n\u001b[1;32m    131\u001b[0m         \u001b[39mself\u001b[39m\u001b[39m.\u001b[39mclose()\n",
      "File \u001b[0;32m~/Library/Python/3.9/lib/python/site-packages/mysql/connector/abstracts.py:1237\u001b[0m, in \u001b[0;36mMySQLConnectionAbstract.connect\u001b[0;34m(self, **kwargs)\u001b[0m\n\u001b[1;32m   1234\u001b[0m     \u001b[39mself\u001b[39m\u001b[39m.\u001b[39mconfig(\u001b[39m*\u001b[39m\u001b[39m*\u001b[39mkwargs)\n\u001b[1;32m   1236\u001b[0m \u001b[39mself\u001b[39m\u001b[39m.\u001b[39mdisconnect()\n\u001b[0;32m-> 1237\u001b[0m \u001b[39mself\u001b[39;49m\u001b[39m.\u001b[39;49m_open_connection()\n\u001b[1;32m   1239\u001b[0m charset, collation \u001b[39m=\u001b[39m (\n\u001b[1;32m   1240\u001b[0m     kwargs\u001b[39m.\u001b[39mpop(\u001b[39m\"\u001b[39m\u001b[39mcharset\u001b[39m\u001b[39m\"\u001b[39m, \u001b[39mNone\u001b[39;00m),\n\u001b[1;32m   1241\u001b[0m     kwargs\u001b[39m.\u001b[39mpop(\u001b[39m\"\u001b[39m\u001b[39mcollation\u001b[39m\u001b[39m\"\u001b[39m, \u001b[39mNone\u001b[39;00m),\n\u001b[1;32m   1242\u001b[0m )\n\u001b[1;32m   1243\u001b[0m \u001b[39mif\u001b[39;00m charset \u001b[39mor\u001b[39;00m collation:\n",
      "File \u001b[0;32m~/Library/Python/3.9/lib/python/site-packages/mysql/connector/connection_cext.py:308\u001b[0m, in \u001b[0;36mCMySQLConnection._open_connection\u001b[0;34m(self)\u001b[0m\n\u001b[1;32m    305\u001b[0m     cnx_kwargs[\u001b[39m\"\u001b[39m\u001b[39muse_kerberos_gssapi\u001b[39m\u001b[39m\"\u001b[39m] \u001b[39m=\u001b[39m \u001b[39mTrue\u001b[39;00m\n\u001b[1;32m    307\u001b[0m \u001b[39mtry\u001b[39;00m:\n\u001b[0;32m--> 308\u001b[0m     \u001b[39mself\u001b[39;49m\u001b[39m.\u001b[39;49m_cmysql\u001b[39m.\u001b[39;49mconnect(\u001b[39m*\u001b[39;49m\u001b[39m*\u001b[39;49mcnx_kwargs)\n\u001b[1;32m    309\u001b[0m     \u001b[39mself\u001b[39m\u001b[39m.\u001b[39m_cmysql\u001b[39m.\u001b[39mconverter_str_fallback \u001b[39m=\u001b[39m \u001b[39mself\u001b[39m\u001b[39m.\u001b[39m_converter_str_fallback\n\u001b[1;32m    310\u001b[0m     \u001b[39mif\u001b[39;00m \u001b[39mself\u001b[39m\u001b[39m.\u001b[39mconverter:\n",
      "\u001b[0;31mKeyboardInterrupt\u001b[0m: "
     ]
    }
   ],
   "source": [
    "import mysql.connector\n",
    "from mysql.connector import Error\n",
    "import pandas as pd\n",
    "def create_server_connection(host_name, user_name, user_password):\n",
    "    connection = None\n",
    "    try:\n",
    "        connection = mysql.connector.connect(\n",
    "            host=host_name,\n",
    "            user=user_name,\n",
    "            passwd=user_password\n",
    "        )\n",
    "        print(\"MySQL Database connection successful\")\n",
    "    except Error as err:\n",
    "        print(f\"Error: '{err}'\")\n",
    "\n",
    "    return connection\n",
    "\n",
    "# connection = create_server_connection(\"localhost\", \"root\", '661063lt')\n",
    "connection = create_server_connection(\"jackclx.mysql.pythonanywhere-services.com\", \"jackclx\", '661063lt') \n",
    "\n",
    "def create_database(connection, query):\n",
    "    cursor = connection.cursor()\n",
    "    try:\n",
    "        cursor.execute(query)\n",
    "        print(\"Database created successfully\")\n",
    "    except Error as err:\n",
    "        print(f\"Error: '{err}'\")\n",
    "\n",
    "# create_database_query = 'CREATE DATABASE EasySplit'\n",
    "# create_database(connection,create_database_query)\n",
    "\n",
    "def create_db_connection(host_name, user_name, user_password, db_name):\n",
    "    connection = None\n",
    "    try:\n",
    "        connection = mysql.connector.connect(\n",
    "            host=host_name,\n",
    "            user=user_name,\n",
    "            passwd=user_password,\n",
    "            database=db_name\n",
    "        )\n",
    "        print(\"MySQL Database connection successful\")\n",
    "    except Error as err:\n",
    "        print(f\"Error: '{err}'\")\n",
    "\n",
    "    return connection\n",
    "\n",
    "# create_db_connection('localhost','root','661063lt','EasySplit')\n",
    "connection = create_db_connection(\"jackclx.mysql.pythonanywhere-services.com\", \"jackclx\", '661063lt', 'jackclx$EasySplit') \n",
    "\n",
    "def execute_query(connection, query):\n",
    "    cursor = connection.cursor()\n",
    "    try:\n",
    "        cursor.execute(query)\n",
    "        connection.commit()\n",
    "        print(\"Query successful\")\n",
    "    except Error as err:\n",
    "        print(f\"Error: '{err}'\")\n"
   ]
  },
  {
   "cell_type": "code",
   "execution_count": 3,
   "metadata": {},
   "outputs": [
    {
     "name": "stdout",
     "output_type": "stream",
     "text": [
      "Defaulting to user installation because normal site-packages is not writeable\n",
      "\u001b[31mERROR: Could not find a version that satisfies the requirement MySQLdb (from versions: none)\u001b[0m\n",
      "\u001b[31mERROR: No matching distribution found for MySQLdb\u001b[0m\n",
      "\u001b[33mWARNING: You are using pip version 21.2.4; however, version 24.0 is available.\n",
      "You should consider upgrading via the '/Library/Developer/CommandLineTools/usr/bin/python3 -m pip install --upgrade pip' command.\u001b[0m\n",
      "Note: you may need to restart the kernel to use updated packages.\n"
     ]
    }
   ],
   "source": [
    "pip install MySQLdb"
   ]
  },
  {
   "cell_type": "code",
   "execution_count": 8,
   "metadata": {},
   "outputs": [
    {
     "ename": "KeyboardInterrupt",
     "evalue": "",
     "output_type": "error",
     "traceback": [
      "\u001b[0;31m---------------------------------------------------------------------------\u001b[0m",
      "\u001b[0;31mMySQLInterfaceError\u001b[0m                       Traceback (most recent call last)",
      "File \u001b[0;32m~/Library/Python/3.9/lib/python/site-packages/mysql/connector/connection_cext.py:308\u001b[0m, in \u001b[0;36mCMySQLConnection._open_connection\u001b[0;34m(self)\u001b[0m\n\u001b[1;32m    307\u001b[0m \u001b[39mtry\u001b[39;00m:\n\u001b[0;32m--> 308\u001b[0m     \u001b[39mself\u001b[39;49m\u001b[39m.\u001b[39;49m_cmysql\u001b[39m.\u001b[39;49mconnect(\u001b[39m*\u001b[39;49m\u001b[39m*\u001b[39;49mcnx_kwargs)\n\u001b[1;32m    309\u001b[0m     \u001b[39mself\u001b[39m\u001b[39m.\u001b[39m_cmysql\u001b[39m.\u001b[39mconverter_str_fallback \u001b[39m=\u001b[39m \u001b[39mself\u001b[39m\u001b[39m.\u001b[39m_converter_str_fallback\n",
      "\u001b[0;31mMySQLInterfaceError\u001b[0m: Can't connect to MySQL server on 'jackclx.mysql.pythonanywhere-services.com:3306' (56)",
      "\nDuring handling of the above exception, another exception occurred:\n",
      "\u001b[0;31mKeyboardInterrupt\u001b[0m                         Traceback (most recent call last)",
      "Cell \u001b[0;32mIn[8], line 17\u001b[0m\n\u001b[1;32m     14\u001b[0m     \u001b[39mreturn\u001b[39;00m connection\n\u001b[1;32m     16\u001b[0m \u001b[39m# create_db_connection('localhost','root','661063lt','EasySplit')\u001b[39;00m\n\u001b[0;32m---> 17\u001b[0m connection \u001b[39m=\u001b[39m create_db_connection(\u001b[39m\"\u001b[39;49m\u001b[39mjackclx.mysql.pythonanywhere-services.com\u001b[39;49m\u001b[39m\"\u001b[39;49m, \u001b[39m\"\u001b[39;49m\u001b[39mjackclx\u001b[39;49m\u001b[39m\"\u001b[39;49m, \u001b[39m'\u001b[39;49m\u001b[39m661063lt\u001b[39;49m\u001b[39m'\u001b[39;49m, \u001b[39m'\u001b[39;49m\u001b[39mjackclx$EasySplit\u001b[39;49m\u001b[39m'\u001b[39;49m) \n",
      "Cell \u001b[0;32mIn[8], line 4\u001b[0m, in \u001b[0;36mcreate_db_connection\u001b[0;34m(host_name, user_name, user_password, db_name)\u001b[0m\n\u001b[1;32m      2\u001b[0m connection \u001b[39m=\u001b[39m \u001b[39mNone\u001b[39;00m\n\u001b[1;32m      3\u001b[0m \u001b[39mtry\u001b[39;00m:\n\u001b[0;32m----> 4\u001b[0m     connection \u001b[39m=\u001b[39m mysql\u001b[39m.\u001b[39;49mconnector\u001b[39m.\u001b[39;49mconnect(\n\u001b[1;32m      5\u001b[0m         host\u001b[39m=\u001b[39;49mhost_name,\n\u001b[1;32m      6\u001b[0m         user\u001b[39m=\u001b[39;49muser_name,\n\u001b[1;32m      7\u001b[0m         passwd\u001b[39m=\u001b[39;49muser_password,\n\u001b[1;32m      8\u001b[0m         database\u001b[39m=\u001b[39;49mdb_name\n\u001b[1;32m      9\u001b[0m     )\n\u001b[1;32m     10\u001b[0m     \u001b[39mprint\u001b[39m(\u001b[39m\"\u001b[39m\u001b[39mMySQL Database connection successful\u001b[39m\u001b[39m\"\u001b[39m)\n\u001b[1;32m     11\u001b[0m \u001b[39mexcept\u001b[39;00m Error \u001b[39mas\u001b[39;00m err:\n",
      "File \u001b[0;32m~/Library/Python/3.9/lib/python/site-packages/mysql/connector/pooling.py:293\u001b[0m, in \u001b[0;36mconnect\u001b[0;34m(*args, **kwargs)\u001b[0m\n\u001b[1;32m    290\u001b[0m         \u001b[39mraise\u001b[39;00m \u001b[39mImportError\u001b[39;00m(ERROR_NO_CEXT)\n\u001b[1;32m    292\u001b[0m \u001b[39mif\u001b[39;00m CMySQLConnection \u001b[39mand\u001b[39;00m \u001b[39mnot\u001b[39;00m use_pure:\n\u001b[0;32m--> 293\u001b[0m     \u001b[39mreturn\u001b[39;00m CMySQLConnection(\u001b[39m*\u001b[39;49margs, \u001b[39m*\u001b[39;49m\u001b[39m*\u001b[39;49mkwargs)\n\u001b[1;32m    294\u001b[0m \u001b[39mreturn\u001b[39;00m MySQLConnection(\u001b[39m*\u001b[39margs, \u001b[39m*\u001b[39m\u001b[39m*\u001b[39mkwargs)\n",
      "File \u001b[0;32m~/Library/Python/3.9/lib/python/site-packages/mysql/connector/connection_cext.py:129\u001b[0m, in \u001b[0;36mCMySQLConnection.__init__\u001b[0;34m(self, **kwargs)\u001b[0m\n\u001b[1;32m    127\u001b[0m \u001b[39mif\u001b[39;00m kwargs:\n\u001b[1;32m    128\u001b[0m     \u001b[39mtry\u001b[39;00m:\n\u001b[0;32m--> 129\u001b[0m         \u001b[39mself\u001b[39;49m\u001b[39m.\u001b[39;49mconnect(\u001b[39m*\u001b[39;49m\u001b[39m*\u001b[39;49mkwargs)\n\u001b[1;32m    130\u001b[0m     \u001b[39mexcept\u001b[39;00m \u001b[39mException\u001b[39;00m:\n\u001b[1;32m    131\u001b[0m         \u001b[39mself\u001b[39m\u001b[39m.\u001b[39mclose()\n",
      "File \u001b[0;32m~/Library/Python/3.9/lib/python/site-packages/mysql/connector/abstracts.py:1237\u001b[0m, in \u001b[0;36mMySQLConnectionAbstract.connect\u001b[0;34m(self, **kwargs)\u001b[0m\n\u001b[1;32m   1234\u001b[0m     \u001b[39mself\u001b[39m\u001b[39m.\u001b[39mconfig(\u001b[39m*\u001b[39m\u001b[39m*\u001b[39mkwargs)\n\u001b[1;32m   1236\u001b[0m \u001b[39mself\u001b[39m\u001b[39m.\u001b[39mdisconnect()\n\u001b[0;32m-> 1237\u001b[0m \u001b[39mself\u001b[39;49m\u001b[39m.\u001b[39;49m_open_connection()\n\u001b[1;32m   1239\u001b[0m charset, collation \u001b[39m=\u001b[39m (\n\u001b[1;32m   1240\u001b[0m     kwargs\u001b[39m.\u001b[39mpop(\u001b[39m\"\u001b[39m\u001b[39mcharset\u001b[39m\u001b[39m\"\u001b[39m, \u001b[39mNone\u001b[39;00m),\n\u001b[1;32m   1241\u001b[0m     kwargs\u001b[39m.\u001b[39mpop(\u001b[39m\"\u001b[39m\u001b[39mcollation\u001b[39m\u001b[39m\"\u001b[39m, \u001b[39mNone\u001b[39;00m),\n\u001b[1;32m   1242\u001b[0m )\n\u001b[1;32m   1243\u001b[0m \u001b[39mif\u001b[39;00m charset \u001b[39mor\u001b[39;00m collation:\n",
      "File \u001b[0;32m~/Library/Python/3.9/lib/python/site-packages/mysql/connector/connection_cext.py:308\u001b[0m, in \u001b[0;36mCMySQLConnection._open_connection\u001b[0;34m(self)\u001b[0m\n\u001b[1;32m    305\u001b[0m     cnx_kwargs[\u001b[39m\"\u001b[39m\u001b[39muse_kerberos_gssapi\u001b[39m\u001b[39m\"\u001b[39m] \u001b[39m=\u001b[39m \u001b[39mTrue\u001b[39;00m\n\u001b[1;32m    307\u001b[0m \u001b[39mtry\u001b[39;00m:\n\u001b[0;32m--> 308\u001b[0m     \u001b[39mself\u001b[39;49m\u001b[39m.\u001b[39;49m_cmysql\u001b[39m.\u001b[39;49mconnect(\u001b[39m*\u001b[39;49m\u001b[39m*\u001b[39;49mcnx_kwargs)\n\u001b[1;32m    309\u001b[0m     \u001b[39mself\u001b[39m\u001b[39m.\u001b[39m_cmysql\u001b[39m.\u001b[39mconverter_str_fallback \u001b[39m=\u001b[39m \u001b[39mself\u001b[39m\u001b[39m.\u001b[39m_converter_str_fallback\n\u001b[1;32m    310\u001b[0m     \u001b[39mif\u001b[39;00m \u001b[39mself\u001b[39m\u001b[39m.\u001b[39mconverter:\n",
      "\u001b[0;31mKeyboardInterrupt\u001b[0m: "
     ]
    }
   ],
   "source": [
    "def create_db_connection(host_name, user_name, user_password, db_name):\n",
    "    connection = None\n",
    "    try:\n",
    "        connection = mysql.connector.connect(\n",
    "            host=host_name,\n",
    "            user=user_name,\n",
    "            passwd=user_password,\n",
    "            database=db_name\n",
    "        )\n",
    "        print(\"MySQL Database connection successful\")\n",
    "    except Error as err:\n",
    "        print(f\"Error: '{err}'\")\n",
    "\n",
    "    return connection\n",
    "\n",
    "# create_db_connection('localhost','root','661063lt','EasySplit')\n",
    "connection = create_db_connection(\"jackclx.mysql.pythonanywhere-services.com\", \"jackclx\", '661063lt', 'jackclx$EasySplit') "
   ]
  },
  {
   "cell_type": "code",
   "execution_count": null,
   "metadata": {},
   "outputs": [
    {
     "name": "stdout",
     "output_type": "stream",
     "text": [
      "MySQL Database connection successful\n",
      "Query successful\n"
     ]
    }
   ],
   "source": [
    "create_user_table = \"\"\"\n",
    "CREATE TABLE IF NOT EXISTS users (\n",
    "    user_id BIGINT PRIMARY KEY,\n",
    "    username VARCHAR(255) NOT NULL,\n",
    "    current_group_id INT, \n",
    "    FOREIGN KEY (current_group_id) REFERENCES split_groups(id);\n",
    "    \n",
    "\n",
    "\n",
    ");\n",
    "\n",
    "CREATE TABLE IF NOT EXISTS split_groups (\n",
    "    id INT AUTO_INCREMENT PRIMARY KEY,\n",
    "    groupname UNIQUE VARCHAR(255) NOT NULL\n",
    ");\n",
    "\n",
    "CREATE TABLE IF NOT EXISTS transactions (\n",
    "    id INT AUTO_INCREMENT PRIMARY KEY,\n",
    "    title VARCHAR(255),\n",
    "    amount DOUBLE,\n",
    "    created_by BIGINT,\n",
    "    created_to BIGINT,\n",
    "    group_id INT,\n",
    "    created_at TIMESTAMP,\n",
    "    FOREIGN KEY (created_by) REFERENCES users(user_id),\n",
    "    FOREIGN KEY (created_to) REFERENCES users(user_id)\n",
    ");\n",
    "\n",
    "\n",
    "CREATE TABLE IF NOT EXISTS user_groups (\n",
    "    user_id BIGINT,\n",
    "    group_id INT,\n",
    "    PRIMARY KEY (user_id, group_id),\n",
    "    FOREIGN KEY (user_id) REFERENCES users(user_id),\n",
    "    FOREIGN KEY (group_id) REFERENCES split_groups(id)\n",
    ");\n",
    "\"\"\"\n",
    "\n",
    "connection = create_db_connection(\"localhost\", \"root\", '661063lt', 'EasySplit') # Connect to the Database\n",
    "execute_query(connection, create_user_table) # Execute our defined query"
   ]
  },
  {
   "cell_type": "code",
   "execution_count": 49,
   "metadata": {},
   "outputs": [
    {
     "name": "stdout",
     "output_type": "stream",
     "text": [
      "MySQL Database connection successful\n",
      "Query successful\n"
     ]
    }
   ],
   "source": [
    "create_user_table = \"\"\"\n",
    "CREATE TABLE IF NOT EXISTS users (\n",
    "    user_id BIGINT PRIMARY KEY,\n",
    "    username VARCHAR(255) NOT NULL\n",
    ");\n",
    "\"\"\"\n",
    "\n",
    "connection = create_db_connection(\"localhost\", \"root\", '661063lt', 'EasySplit') # Connect to the Database\n",
    "execute_query(connection, create_user_table) # Execute our defined query"
   ]
  },
  {
   "cell_type": "code",
   "execution_count": 2,
   "metadata": {},
   "outputs": [
    {
     "ename": "NameError",
     "evalue": "name 'create_db_connection' is not defined",
     "output_type": "error",
     "traceback": [
      "\u001b[0;31m---------------------------------------------------------------------------\u001b[0m",
      "\u001b[0;31mNameError\u001b[0m                                 Traceback (most recent call last)",
      "Cell \u001b[0;32mIn[2], line 8\u001b[0m\n\u001b[1;32m      1\u001b[0m create_user_table \u001b[39m=\u001b[39m \u001b[39m\"\"\"\u001b[39m\n\u001b[1;32m      2\u001b[0m \n\u001b[1;32m      3\u001b[0m \u001b[39mCREATE TABLE IF NOT EXISTS split_groups (\u001b[39m\n\u001b[0;32m   (...)\u001b[0m\n\u001b[1;32m      6\u001b[0m \u001b[39m);\u001b[39m\n\u001b[1;32m      7\u001b[0m \u001b[39m\"\"\"\u001b[39m\n\u001b[0;32m----> 8\u001b[0m connection \u001b[39m=\u001b[39m create_db_connection(\u001b[39m\"\u001b[39m\u001b[39mjackclx.mysql.pythonanywhere-services.com\u001b[39m\u001b[39m\"\u001b[39m, \u001b[39m\"\u001b[39m\u001b[39mjackclx\u001b[39m\u001b[39m\"\u001b[39m, \u001b[39m'\u001b[39m\u001b[39m661063lt\u001b[39m\u001b[39m'\u001b[39m, \u001b[39m'\u001b[39m\u001b[39mjackclx$EasySplit\u001b[39m\u001b[39m'\u001b[39m) \n\u001b[1;32m      9\u001b[0m \u001b[39m# connection = create_db_connection(\"localhost\", \"root\", '661063lt', 'EasySplit') # Connect to the Database\u001b[39;00m\n\u001b[1;32m     10\u001b[0m execute_query(connection, create_user_table) \u001b[39m# Execute our defined query\u001b[39;00m\n",
      "\u001b[0;31mNameError\u001b[0m: name 'create_db_connection' is not defined"
     ]
    }
   ],
   "source": [
    "create_user_table = \"\"\"\n",
    "\n",
    "CREATE TABLE IF NOT EXISTS split_groups (\n",
    "    id INT AUTO_INCREMENT PRIMARY KEY,\n",
    "    groupname VARCHAR(255) NOT NULL\n",
    ");\n",
    "\"\"\"\n",
    "connection = create_db_connection(\"jackclx.mysql.pythonanywhere-services.com\", \"jackclx\", '661063lt', 'jackclx$EasySplit') \n",
    "# connection = create_db_connection(\"localhost\", \"root\", '661063lt', 'EasySplit') # Connect to the Database\n",
    "execute_query(connection, create_user_table) # Execute our defined query"
   ]
  },
  {
   "cell_type": "code",
   "execution_count": 60,
   "metadata": {},
   "outputs": [
    {
     "name": "stdout",
     "output_type": "stream",
     "text": [
      "MySQL Database connection successful\n",
      "Query successful\n"
     ]
    }
   ],
   "source": [
    "create_user_table = \"\"\"\n",
    "\n",
    "CREATE TABLE IF NOT EXISTS transactions (\n",
    "    id INT AUTO_INCREMENT PRIMARY KEY,\n",
    "    title VARCHAR(255),\n",
    "    amount DOUBLE,\n",
    "    created_by BIGINT,\n",
    "    created_to BIGINT,\n",
    "    group_id INT,\n",
    "    created_at TIMESTAMP,\n",
    "    FOREIGN KEY (created_by) REFERENCES users(user_id),\n",
    "    FOREIGN KEY (created_to) REFERENCES users(user_id)\n",
    ");\n",
    "\n",
    "\"\"\"\n",
    "\n",
    "connection = create_db_connection(\"localhost\", \"root\", '661063lt', 'EasySplit') # Connect to the Database\n",
    "execute_query(connection, create_user_table) # Execute our defined query"
   ]
  },
  {
   "cell_type": "code",
   "execution_count": 55,
   "metadata": {},
   "outputs": [
    {
     "name": "stdout",
     "output_type": "stream",
     "text": [
      "MySQL Database connection successful\n",
      "Query successful\n"
     ]
    }
   ],
   "source": [
    "create_user_table = \"\"\"\n",
    "\n",
    "CREATE TABLE IF NOT EXISTS user_groups (\n",
    "    user_id BIGINT,\n",
    "    group_id INT,\n",
    "    PRIMARY KEY (user_id, group_id),\n",
    "    FOREIGN KEY (user_id) REFERENCES users(user_id),\n",
    "    FOREIGN KEY (group_id) REFERENCES split_groups(id)\n",
    ");\n",
    "\"\"\"\n",
    "\n",
    "connection = create_db_connection(\"localhost\", \"root\", '661063lt', 'EasySplit') # Connect to the Database\n",
    "execute_query(connection, create_user_table) # Execute our defined query"
   ]
  }
 ],
 "metadata": {
  "kernelspec": {
   "display_name": "Python 3",
   "language": "python",
   "name": "python3"
  },
  "language_info": {
   "codemirror_mode": {
    "name": "ipython",
    "version": 3
   },
   "file_extension": ".py",
   "mimetype": "text/x-python",
   "name": "python",
   "nbconvert_exporter": "python",
   "pygments_lexer": "ipython3",
   "version": "3.9.6"
  },
  "orig_nbformat": 4
 },
 "nbformat": 4,
 "nbformat_minor": 2
}
