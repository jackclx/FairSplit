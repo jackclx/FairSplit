{
 "cells": [
  {
   "cell_type": "code",
   "execution_count": 18,
   "metadata": {},
   "outputs": [
    {
     "data": {
      "text/plain": [
       "True"
      ]
     },
     "execution_count": 18,
     "metadata": {},
     "output_type": "execute_result"
    }
   ],
   "source": [
    "def extract_amount(text):\n",
    "    match = re.match(r'(\\d+):', text)\n",
    "    if match:\n",
    "        return int(match.group(1))\n",
    "    return None\n",
    "\n",
    "def extract_title(text):\n",
    "    # Extract title, assuming it's always before the last colon\n",
    "    match = re.search(r':\\s*(.*?)(?::\\s*[\\w\\s]+)?$', text)\n",
    "    if match:\n",
    "        return match.group(1).strip()\n",
    "    return None\n",
    "\n",
    "def extract_name(text):\n",
    "    # Check if there's a second colon, if yes, extract the name\n",
    "    if text.count(':') > 1:\n",
    "        match = re.search(r':\\s*[\\w\\s]*:\\s*(\\w+)$', text)\n",
    "        if match:\n",
    "            return match.group(1).strip()\n",
    "    return None\n",
    "\n",
    "extract_name('30: food') == None"
   ]
  },
  {
   "cell_type": "code",
   "execution_count": 2,
   "metadata": {},
   "outputs": [
    {
     "ename": "KeyboardInterrupt",
     "evalue": "",
     "output_type": "error",
     "traceback": [
      "\u001b[0;31m---------------------------------------------------------------------------\u001b[0m",
      "\u001b[0;31mMySQLInterfaceError\u001b[0m                       Traceback (most recent call last)",
      "File \u001b[0;32m/Library/Frameworks/Python.framework/Versions/3.12/lib/python3.12/site-packages/mysql/connector/connection_cext.py:308\u001b[0m, in \u001b[0;36mCMySQLConnection._open_connection\u001b[0;34m(self)\u001b[0m\n\u001b[1;32m    307\u001b[0m \u001b[39mtry\u001b[39;00m:\n\u001b[0;32m--> 308\u001b[0m     \u001b[39mself\u001b[39;49m\u001b[39m.\u001b[39;49m_cmysql\u001b[39m.\u001b[39;49mconnect(\u001b[39m*\u001b[39;49m\u001b[39m*\u001b[39;49mcnx_kwargs)\n\u001b[1;32m    309\u001b[0m     \u001b[39mself\u001b[39m\u001b[39m.\u001b[39m_cmysql\u001b[39m.\u001b[39mconverter_str_fallback \u001b[39m=\u001b[39m \u001b[39mself\u001b[39m\u001b[39m.\u001b[39m_converter_str_fallback\n",
      "\u001b[0;31mMySQLInterfaceError\u001b[0m: Can't connect to MySQL server on 'jackclx.mysql.pythonanywhere-services.com:3306' (56)",
      "\nDuring handling of the above exception, another exception occurred:\n",
      "\u001b[0;31mKeyboardInterrupt\u001b[0m                         Traceback (most recent call last)",
      "Cell \u001b[0;32mIn[2], line 20\u001b[0m\n\u001b[1;32m     17\u001b[0m     \u001b[39mreturn\u001b[39;00m connection\n\u001b[1;32m     18\u001b[0m \u001b[39m# connection = create_connection(\"localhost\", \"root\", '661063lt', 'EasySplit') \u001b[39;00m\n\u001b[0;32m---> 20\u001b[0m connection \u001b[39m=\u001b[39m create_connection(\u001b[39m\"\u001b[39;49m\u001b[39mjackclx.mysql.pythonanywhere-services.com\u001b[39;49m\u001b[39m\"\u001b[39;49m, \u001b[39m\"\u001b[39;49m\u001b[39mjackclx\u001b[39;49m\u001b[39m\"\u001b[39;49m, \u001b[39m'\u001b[39;49m\u001b[39m661063lt\u001b[39;49m\u001b[39m'\u001b[39;49m, \u001b[39m'\u001b[39;49m\u001b[39mjackclx$EasySplit\u001b[39;49m\u001b[39m'\u001b[39;49m) \n",
      "Cell \u001b[0;32mIn[2], line 7\u001b[0m, in \u001b[0;36mcreate_connection\u001b[0;34m(host_name, user_name, user_password, db_name)\u001b[0m\n\u001b[1;32m      5\u001b[0m connection \u001b[39m=\u001b[39m \u001b[39mNone\u001b[39;00m\n\u001b[1;32m      6\u001b[0m \u001b[39mtry\u001b[39;00m:\n\u001b[0;32m----> 7\u001b[0m     connection \u001b[39m=\u001b[39m mysql\u001b[39m.\u001b[39;49mconnector\u001b[39m.\u001b[39;49mconnect(\n\u001b[1;32m      8\u001b[0m         host\u001b[39m=\u001b[39;49mhost_name,\n\u001b[1;32m      9\u001b[0m         user\u001b[39m=\u001b[39;49muser_name,\n\u001b[1;32m     10\u001b[0m         passwd\u001b[39m=\u001b[39;49muser_password,\n\u001b[1;32m     11\u001b[0m         database\u001b[39m=\u001b[39;49mdb_name\n\u001b[1;32m     12\u001b[0m     )\n\u001b[1;32m     13\u001b[0m     \u001b[39mprint\u001b[39m(\u001b[39m\"\u001b[39m\u001b[39mMySQL Database connection successful\u001b[39m\u001b[39m\"\u001b[39m)\n\u001b[1;32m     14\u001b[0m \u001b[39mexcept\u001b[39;00m Error \u001b[39mas\u001b[39;00m err:\n",
      "File \u001b[0;32m/Library/Frameworks/Python.framework/Versions/3.12/lib/python3.12/site-packages/mysql/connector/pooling.py:293\u001b[0m, in \u001b[0;36mconnect\u001b[0;34m(*args, **kwargs)\u001b[0m\n\u001b[1;32m    290\u001b[0m         \u001b[39mraise\u001b[39;00m \u001b[39mImportError\u001b[39;00m(ERROR_NO_CEXT)\n\u001b[1;32m    292\u001b[0m \u001b[39mif\u001b[39;00m CMySQLConnection \u001b[39mand\u001b[39;00m \u001b[39mnot\u001b[39;00m use_pure:\n\u001b[0;32m--> 293\u001b[0m     \u001b[39mreturn\u001b[39;00m CMySQLConnection(\u001b[39m*\u001b[39;49margs, \u001b[39m*\u001b[39;49m\u001b[39m*\u001b[39;49mkwargs)\n\u001b[1;32m    294\u001b[0m \u001b[39mreturn\u001b[39;00m MySQLConnection(\u001b[39m*\u001b[39margs, \u001b[39m*\u001b[39m\u001b[39m*\u001b[39mkwargs)\n",
      "File \u001b[0;32m/Library/Frameworks/Python.framework/Versions/3.12/lib/python3.12/site-packages/mysql/connector/connection_cext.py:129\u001b[0m, in \u001b[0;36mCMySQLConnection.__init__\u001b[0;34m(self, **kwargs)\u001b[0m\n\u001b[1;32m    127\u001b[0m \u001b[39mif\u001b[39;00m kwargs:\n\u001b[1;32m    128\u001b[0m     \u001b[39mtry\u001b[39;00m:\n\u001b[0;32m--> 129\u001b[0m         \u001b[39mself\u001b[39;49m\u001b[39m.\u001b[39;49mconnect(\u001b[39m*\u001b[39;49m\u001b[39m*\u001b[39;49mkwargs)\n\u001b[1;32m    130\u001b[0m     \u001b[39mexcept\u001b[39;00m \u001b[39mException\u001b[39;00m:\n\u001b[1;32m    131\u001b[0m         \u001b[39mself\u001b[39m\u001b[39m.\u001b[39mclose()\n",
      "File \u001b[0;32m/Library/Frameworks/Python.framework/Versions/3.12/lib/python3.12/site-packages/mysql/connector/abstracts.py:1237\u001b[0m, in \u001b[0;36mMySQLConnectionAbstract.connect\u001b[0;34m(self, **kwargs)\u001b[0m\n\u001b[1;32m   1234\u001b[0m     \u001b[39mself\u001b[39m\u001b[39m.\u001b[39mconfig(\u001b[39m*\u001b[39m\u001b[39m*\u001b[39mkwargs)\n\u001b[1;32m   1236\u001b[0m \u001b[39mself\u001b[39m\u001b[39m.\u001b[39mdisconnect()\n\u001b[0;32m-> 1237\u001b[0m \u001b[39mself\u001b[39;49m\u001b[39m.\u001b[39;49m_open_connection()\n\u001b[1;32m   1239\u001b[0m charset, collation \u001b[39m=\u001b[39m (\n\u001b[1;32m   1240\u001b[0m     kwargs\u001b[39m.\u001b[39mpop(\u001b[39m\"\u001b[39m\u001b[39mcharset\u001b[39m\u001b[39m\"\u001b[39m, \u001b[39mNone\u001b[39;00m),\n\u001b[1;32m   1241\u001b[0m     kwargs\u001b[39m.\u001b[39mpop(\u001b[39m\"\u001b[39m\u001b[39mcollation\u001b[39m\u001b[39m\"\u001b[39m, \u001b[39mNone\u001b[39;00m),\n\u001b[1;32m   1242\u001b[0m )\n\u001b[1;32m   1243\u001b[0m \u001b[39mif\u001b[39;00m charset \u001b[39mor\u001b[39;00m collation:\n",
      "File \u001b[0;32m/Library/Frameworks/Python.framework/Versions/3.12/lib/python3.12/site-packages/mysql/connector/connection_cext.py:313\u001b[0m, in \u001b[0;36mCMySQLConnection._open_connection\u001b[0;34m(self)\u001b[0m\n\u001b[1;32m    311\u001b[0m         \u001b[39mself\u001b[39m\u001b[39m.\u001b[39mconverter\u001b[39m.\u001b[39mstr_fallback \u001b[39m=\u001b[39m \u001b[39mself\u001b[39m\u001b[39m.\u001b[39m_converter_str_fallback\n\u001b[1;32m    312\u001b[0m \u001b[39mexcept\u001b[39;00m MySQLInterfaceError \u001b[39mas\u001b[39;00m err:\n\u001b[0;32m--> 313\u001b[0m     \u001b[39mraise\u001b[39;00m get_mysql_exception(\n\u001b[1;32m    314\u001b[0m         msg\u001b[39m=\u001b[39;49merr\u001b[39m.\u001b[39;49mmsg, errno\u001b[39m=\u001b[39;49merr\u001b[39m.\u001b[39;49merrno, sqlstate\u001b[39m=\u001b[39;49merr\u001b[39m.\u001b[39;49msqlstate\n\u001b[1;32m    315\u001b[0m     ) \u001b[39mfrom\u001b[39;00m \u001b[39merr\u001b[39;00m\n\u001b[1;32m    317\u001b[0m \u001b[39mself\u001b[39m\u001b[39m.\u001b[39m_do_handshake()\n",
      "File \u001b[0;32m/Library/Frameworks/Python.framework/Versions/3.12/lib/python3.12/site-packages/mysql/connector/errors.py:216\u001b[0m, in \u001b[0;36mget_mysql_exception\u001b[0;34m(errno, msg, sqlstate, warning)\u001b[0m\n\u001b[1;32m    211\u001b[0m         _CUSTOM_ERROR_EXCEPTIONS[errno] \u001b[39m=\u001b[39m _exception\n\u001b[1;32m    213\u001b[0m     \u001b[39mreturn\u001b[39;00m _CUSTOM_ERROR_EXCEPTIONS\n\u001b[0;32m--> 216\u001b[0m \u001b[39mdef\u001b[39;00m \u001b[39mget_mysql_exception\u001b[39m(\n\u001b[1;32m    217\u001b[0m     errno: \u001b[39mint\u001b[39m,\n\u001b[1;32m    218\u001b[0m     msg: Optional[\u001b[39mstr\u001b[39m] \u001b[39m=\u001b[39m \u001b[39mNone\u001b[39;00m,\n\u001b[1;32m    219\u001b[0m     sqlstate: Optional[\u001b[39mstr\u001b[39m] \u001b[39m=\u001b[39m \u001b[39mNone\u001b[39;00m,\n\u001b[1;32m    220\u001b[0m     warning: Optional[\u001b[39mbool\u001b[39m] \u001b[39m=\u001b[39m \u001b[39mFalse\u001b[39;00m,\n\u001b[1;32m    221\u001b[0m ) \u001b[39m-\u001b[39m\u001b[39m>\u001b[39m ErrorTypes:\n\u001b[1;32m    222\u001b[0m \u001b[39m    \u001b[39m\u001b[39m\"\"\"Get the exception matching the MySQL error\u001b[39;00m\n\u001b[1;32m    223\u001b[0m \n\u001b[1;32m    224\u001b[0m \u001b[39m    This function will return an exception based on the SQLState. The given\u001b[39;00m\n\u001b[0;32m   (...)\u001b[0m\n\u001b[1;32m    230\u001b[0m \u001b[39m    Returns an Exception\u001b[39;00m\n\u001b[1;32m    231\u001b[0m \u001b[39m    \"\"\"\u001b[39;00m\n\u001b[1;32m    232\u001b[0m     \u001b[39mtry\u001b[39;00m:\n",
      "\u001b[0;31mKeyboardInterrupt\u001b[0m: "
     ]
    }
   ],
   "source": [
    "import mysql.connector\n",
    "from mysql.connector import Error\n",
    "\n",
    "def create_connection(host_name, user_name, user_password, db_name):\n",
    "    connection = None\n",
    "    try:\n",
    "        connection = mysql.connector.connect(\n",
    "            host=host_name,\n",
    "            user=user_name,\n",
    "            passwd=user_password,\n",
    "            database=db_name\n",
    "        )\n",
    "        print(\"MySQL Database connection successful\")\n",
    "    except Error as err:\n",
    "        print(f\"Error: '{err}'\")\n",
    "\n",
    "    return connection\n",
    "# connection = create_connection("\", \"\", \'\', \'') \n",
    "\n",
   ]
  },
  {
   "cell_type": "code",
   "execution_count": 1,
   "metadata": {},
   "outputs": [
    {
     "name": "stdout",
     "output_type": "stream",
     "text": [
      "jack paid 100.0 for grab, 30.0 for apple, 10.0 for train, 30.0 for food for ping, owes 20.0 for juice to ping, total spent 150.0\n",
      "ping paid 50.0 for bbt, 40.0 for fruit, 20.0 for juice for jack, owes 30.0 for food to jack, total spent 80.0\n",
      "Tom paid 50.0 for fruit, owes , total spent 50.0\n",
      "total expense incurred: 330.0\n"
     ]
    },
    {
     "data": {
      "text/plain": [
       "{'jack': 150.0, 'ping': 80.0, 'Tom': 50.0}"
      ]
     },
     "execution_count": 1,
     "metadata": {},
     "output_type": "execute_result"
    }
   ],
   "source": [
    "import datetime\n",
    "\n",
    "\n",
    "lis = [(1, 'grab', 100.0, 413024690, None, 1, datetime.datetime(2023, 12, 9, 16, 2, 29), 'jack', None),\n",
    "        (2, 'apple', 30.0, 413024690, None, 1, datetime.datetime(2023, 12, 9, 16, 3, 3), 'jack', None),\n",
    "          (3, 'bbt', 50.0, 6581823395, None, 1, datetime.datetime(2023, 12, 9, 16, 4, 19), 'ping', None),\n",
    "            (4, 'train', 10.0, 413024690, None, 1, datetime.datetime(2023, 12, 9, 16, 15, 21), 'jack', None),\n",
    "              (5, 'food', 30.0, 413024690, 6581823395, 1, datetime.datetime(2023, 12, 9, 16, 17, 42), 'jack', 'ping'),\n",
    "                (6, 'fruit', 40.0, 6581823395, None, 1, datetime.datetime(2023, 12, 9, 16, 31, 22), 'ping', None),\n",
    "                  (7, 'juice', 20.0, 6581823395, 413024690, 1, datetime.datetime(2023, 12, 9, 16, 31, 48), 'ping', 'jack'),\n",
    "                    (9, 'fruit', 50.0, 6697830562, None, 1, datetime.datetime(2023, 12, 9, 17, 39, 31), 'Tom', None)]\n",
    "\n",
    "def summary(transactions): \n",
    "    total_expense = 0\n",
    "    user_summary = {}\n",
    "\n",
    "    for transaction in transactions:\n",
    "        amount = transaction[2]  # Transaction amount\n",
    "        item = transaction[1]    # Item description\n",
    "        username1 = transaction[-2]  # created_by user\n",
    "        username2 = transaction[-1]  # created_to user\n",
    "\n",
    "        if username1 not in user_summary:\n",
    "            user_summary[username1] = {'paid_for': [], 'owes': []}\n",
    "        \n",
    "        if username2:  # If created_to user exists\n",
    "            if username2 not in user_summary:\n",
    "                user_summary[username2] = {'paid_for': [], 'owes': []}\n",
    "            user_summary[username1]['paid_for'].append(f\"{amount} for {item} for {username2}\")\n",
    "            user_summary[username2]['owes'].append(f\"{amount} for {item} to {username1}\")\n",
    "        else:\n",
    "            user_summary[username1]['paid_for'].append(f\"{amount} for {item}\")\n",
    "\n",
    "    # Update the processing to include total spent and owed per user\n",
    "    output_lines = []\n",
    "    for username, details in user_summary.items():\n",
    "        total_paid = sum(float(amount.split(\" for \")[0]) for amount in details['paid_for'])\n",
    "        total_owed = sum(float(amount.split(\" for \")[0]) for amount in details['owes'])\n",
    "        total_expense += total_paid\n",
    "\n",
    "        paid_items = ', '.join(details['paid_for'])\n",
    "        owes_items = ', '.join(details['owes'])\n",
    "        total_spent = total_paid - total_owed\n",
    "\n",
    "        output_lines.append(f\"{username} paid {paid_items}, owes {owes_items}, total spent {total_spent}\")\n",
    "\n",
    "    # Add the total expense incurred\n",
    "    output_lines.append(f\"total expense incurred: {total_expense}\")\n",
    "\n",
    "    # Format the final output as a single string\n",
    "    formatted_output = \"\\n\".join(output_lines)\n",
    "    return formatted_output\n",
    "\n",
    "print(summary(lis))\n",
    "\n",
    "def transaction_dic(transactions):\n",
    "    expense_dict = {}\n",
    "\n",
    "    for _, _, amount, _, _,_, _, created_by_username, created_to_username in transactions:\n",
    "        # Handling the user who created the transaction\n",
    "        if created_by_username in expense_dict:\n",
    "            expense_dict[created_by_username] += amount\n",
    "        else:\n",
    "            expense_dict[created_by_username] = amount\n",
    "\n",
    "        # If there is a user to whom the transaction was created\n",
    "        if created_to_username:\n",
    "            # Reduce the receiver's total by the amount\n",
    "            if created_to_username in expense_dict:\n",
    "                expense_dict[created_to_username] -= amount\n",
    "            else:\n",
    "                # In case the receiver is not yet in the dictionary, we initialize with a negative value\n",
    "                expense_dict[created_to_username] = -amount\n",
    "\n",
    "    # No need to reformat the dictionary, just return it\n",
    "    return expense_dict\n",
    "\n",
    "transaction_dic(lis)"
   ]
  },
  {
   "cell_type": "code",
   "execution_count": 5,
   "metadata": {},
   "outputs": [
    {
     "name": "stdout",
     "output_type": "stream",
     "text": [
      "[56.66666666666667, -13.333333333333329, -43.33333333333333]\n",
      "Tom 43.33333333333333 jack\n",
      "ping 13.333333333333329 jack\n"
     ]
    }
   ],
   "source": [
    "dic = {'jack': 150.0, 'ping': 80.0, 'Tom': 50.0}\n",
    "names = list(dic.keys())\n",
    "spent = list(dic.values())\n",
    "\n",
    "# Step 1: Compute the total spent by all the friends.\n",
    "total = sum(spent)\n",
    "\n",
    "# Step 2: Determine the equal expense per person.\n",
    "expense_per_person = total / len(spent)\n",
    "\n",
    "# Step 3: Compute how much each person owes or gets owed.\n",
    "# Negative values mean they owe money, positive values mean they are owed money.\n",
    "owe = [i - expense_per_person for i in spent]\n",
    "print(owe)\n",
    "\n",
    "# Step 4: Settle the debts.\n",
    "def settle_debts(names, owe):\n",
    "    transactions = []\n",
    "    tolerance = 0.01 \n",
    "    while max(owe) > 0.01:  # while someone still owes something\n",
    "        payer_index = owe.index(min(owe))\n",
    "        payee_index = owe.index(max(owe))\n",
    "\n",
    "        amount_to_transfer = min(-owe[payer_index], owe[payee_index])\n",
    "\n",
    "        transactions.append((names[payer_index], names[payee_index], amount_to_transfer))\n",
    "        owe[payer_index] += amount_to_transfer\n",
    "        owe[payee_index] -= amount_to_transfer\n",
    "\n",
    "    return transactions\n",
    "\n",
    "transactions = settle_debts(names, owe)\n",
    "\n",
    "for transaction in transactions:\n",
    "    payer, payee, amount = transaction\n",
    "    print(payer, amount, payee)\n",
    "    # await context.bot.send_message(chat_id=update.effective_chat.id, text=f\"{payer} should transfer {round(amount,1)} to {payee}.\")"
   ]
  },
  {
   "cell_type": "code",
   "execution_count": 5,
   "metadata": {},
   "outputs": [
    {
     "data": {
      "text/plain": [
       "['japan']"
      ]
     },
     "execution_count": 5,
     "metadata": {},
     "output_type": "execute_result"
    }
   ],
   "source": [
    "def find_user_group(id, group_members):\n",
    "    lis=[]\n",
    "    for group_name, members in group_members.items():\n",
    "        if id in members:\n",
    "            lis.append(group_name)\n",
    "    return lis if lis else None\n",
    "\n",
    "group_members ={'japan': {1: 50, 2: 60, 3:70}, 'singapore':{2: 40, 8:50}}\n",
    "find_user_group(1,group_members)"
   ]
  },
  {
   "cell_type": "code",
   "execution_count": 7,
   "metadata": {},
   "outputs": [
    {
     "name": "stdout",
     "output_type": "stream",
     "text": [
      "{413024690: '10.0 for food, 20.0 for grab, total spent 30.0', 6581823395: '50.0 for logo, 80.0 for apple, total spent 130.0'}\n"
     ]
    },
    {
     "data": {
      "text/plain": [
       "['413024690 paid 10.0 for food, 20.0 for grab, total spent 30.0',\n",
       " '6581823395 paid 50.0 for logo, 80.0 for apple, total spent 130.0',\n",
       " 'total expense incurred: 160.0']"
      ]
     },
     "execution_count": 7,
     "metadata": {},
     "output_type": "execute_result"
    }
   ],
   "source": [
    "import datetime\n",
    "lis = [(4, 'food', 10.0, 413024690, 4, datetime.datetime(2023, 12, 8, 1, 59, 24)), \n",
    "       (5, 'grab', 20.0, 413024690, 4, datetime.datetime(2023, 12, 8, 1, 59, 29)), \n",
    "       (6, 'logo', 50.0, 6581823395, 4, datetime.datetime(2023, 12, 8, 2, 1, 13)), \n",
    "       (7, 'apple', 80.0, 6581823395, 4, datetime.datetime(2023, 12, 8, 2, 1, 19))] \n",
    "\n",
    "\n",
    "total_expense = 0\n",
    "summary ={}\n",
    "\n",
    "for _, item, amount, id_, _, _ in lis:\n",
    "    if id_ not in summary:\n",
    "        summary[id_] = []\n",
    "    summary[id_].append(f\"{amount} for {item}\")\n",
    "\n",
    "# Update the processing to include total spent per ID\n",
    "for id_, items in summary.items():\n",
    "    total_spent = sum(float(amount.split(\" for \")[0]) for amount in items)\n",
    "    total_expense += total_spent\n",
    "    summary[id_] = f\"{', '.join(items)}, total spent {total_spent}\"\n",
    "\n",
    "print(summary)\n",
    "\n",
    "# Format the final output\n",
    "output_with_totals = [\"{} paid {}\".format(id_, items) for id_, items in summary.items()]\n",
    "output_with_totals.append(f\"total expense incurred: {total_expense}\")\n",
    "\n",
    "output_with_totals\n",
    "\n",
    "\n",
    "\n",
    "\n"
   ]
  },
  {
   "cell_type": "code",
   "execution_count": 11,
   "metadata": {},
   "outputs": [
    {
     "data": {
      "text/plain": [
       "{'jack': 30.0, 'Ping': 130.0}"
      ]
     },
     "execution_count": 11,
     "metadata": {},
     "output_type": "execute_result"
    }
   ],
   "source": [
    "# Given list of tuples\n",
    "lis = [\n",
    "    (4, 'food', 10.0, 413024690, 4, datetime.datetime(2023, 12, 8, 1, 59, 24), 'jack'),\n",
    "    (5, 'grab', 20.0, 413024690, 4, datetime.datetime(2023, 12, 8, 1, 59, 29), 'jack'),\n",
    "    (6, 'logo', 50.0, 6581823395, 4, datetime.datetime(2023, 12, 8, 2, 1, 13), 'Ping'),\n",
    "    (7, 'apple', 80.0, 6581823395, 4, datetime.datetime(2023, 12, 8, 2, 1, 19), 'Ping')\n",
    "]\n",
    "\n",
    "# Create a dictionary to store the total amount spent by each user\n",
    "\n",
    "\n",
    "def transaction_dic(transactions):\n",
    "    expense_dict = {}\n",
    "    for _, _, amount, _, _, _, username in transactions:\n",
    "        if username in expense_dict:\n",
    "            expense_dict[username] += amount\n",
    "        else:\n",
    "            expense_dict[username] = amount\n",
    "\n",
    "    formatted_dict = {key: value for key, value in expense_dict.items()}\n",
    "    return formatted_dict\n",
    "\n",
    "transaction_dic(lis)\n",
    "\n",
    "\n",
    "\n"
   ]
  },
  {
   "cell_type": "code",
   "execution_count": 1,
   "metadata": {},
   "outputs": [
    {
     "name": "stdout",
     "output_type": "stream",
     "text": [
      "[('A', 'B', 400.0), ('D', 'E', 200.0), ('C', 'B', 100.0)]\n",
      "A should transfer 400.0 to B.\n",
      "D should transfer 200.0 to E.\n",
      "C should transfer 100.0 to B.\n"
     ]
    }
   ],
   "source": [
    "# names = ['A', 'B', 'C','D', 'E']\n",
    "# spent = [100, 1000, 400, 300,700]\n",
    "\n",
    "dic1 ={'A':100,\"B\":1000,\"C\":400,\"D\":300,\"E\":700}\n",
    "names = list(dic1.keys())\n",
    "spent = list(dic1.values())\n",
    "\n",
    "# Step 1: Compute the total spent by all the friends.\n",
    "total = sum(spent)\n",
    "\n",
    "# Step 2: Determine the equal expense per person.\n",
    "expense_per_person = total / len(spent)\n",
    "\n",
    "# Step 3: Compute how much each person owes or gets owed.\n",
    "# Negative values mean they owe money, positive values mean they are owed money.\n",
    "owe = [i - expense_per_person for i in spent]\n",
    "\n",
    "# Step 4: Settle the debts.\n",
    "def settle_debts(names, owe):\n",
    "    transactions = []\n",
    "    while max(owe) != 0:  # while someone still owes something\n",
    "        payer_index = owe.index(min(owe))\n",
    "        payee_index = owe.index(max(owe))\n",
    "\n",
    "        amount_to_transfer = min(-owe[payer_index], owe[payee_index])\n",
    "\n",
    "        transactions.append((names[payer_index], names[payee_index], amount_to_transfer))\n",
    "        owe[payer_index] += amount_to_transfer\n",
    "        owe[payee_index] -= amount_to_transfer\n",
    "\n",
    "    return transactions\n",
    "\n",
    "transactions = settle_debts(names, owe)\n",
    "print(transactions)\n",
    "for transaction in transactions:\n",
    "    payer, payee, amount = transaction\n",
    "    print(f\"{payer} should transfer {amount} to {payee}.\")\n",
    "\n",
    "\n",
    "\n"
   ]
  },
  {
   "cell_type": "code",
   "execution_count": 13,
   "metadata": {},
   "outputs": [
    {
     "name": "stdout",
     "output_type": "stream",
     "text": [
      "Text 1:\n",
      "Amount: 200, Title: grab to airport, Name: None\n",
      "\n",
      "Text 2:\n",
      "Amount: 200, Title: grab to airport, Name: jeremy\n"
     ]
    }
   ],
   "source": [
    "import re\n",
    "\n",
    "def extract_amount(text):\n",
    "    match = re.match(r'(\\d+):', text)\n",
    "    if match:\n",
    "        return int(match.group(1))\n",
    "    return None\n",
    "\n",
    "def extract_title(text):\n",
    "    # Extract title, assuming it's always before the last colon\n",
    "    match = re.search(r':\\s*(.*?)(?::\\s*[\\w\\s]+)?$', text)\n",
    "    if match:\n",
    "        return match.group(1).strip()\n",
    "    return None\n",
    "\n",
    "def extract_name(text):\n",
    "    # Check if there's a second colon, if yes, extract the name\n",
    "    if text.count(':') > 1:\n",
    "        match = re.search(r':\\s*[\\w\\s]*:\\s*(\\w+)$', text)\n",
    "        if match:\n",
    "            return match.group(1).strip()\n",
    "    return None\n",
    "\n",
    "# Example usage\n",
    "text1 = \"200: grab to airport\"\n",
    "text2 = \"200: grab to airport: jeremy\"\n",
    "\n",
    "print(\"Text 1:\")\n",
    "print(f\"Amount: {extract_amount(text1)}, Title: {extract_title(text1)}, Name: {extract_name(text1)}\")\n",
    "\n",
    "print(\"\\nText 2:\")\n",
    "print(f\"Amount: {extract_amount(text2)}, Title: {extract_title(text2)}, Name: {extract_name(text2)}\")\n",
    "\n"
   ]
  },
  {
   "cell_type": "code",
   "execution_count": 7,
   "metadata": {},
   "outputs": [
    {
     "name": "stdout",
     "output_type": "stream",
     "text": [
      "['abc', 'bcd']\n"
     ]
    }
   ],
   "source": [
    "def find_user_groups(id, group_members):\n",
    "    groups = []\n",
    "    for group_name, members in group_members.items():\n",
    "        if id in members:\n",
    "            groups.append(group_name)\n",
    "    return groups if groups else None\n",
    "\n",
    "group_members = {'abc': {123: [0,'grab']}, 'bcd': {123: 0}}\n",
    "print(find_user_groups(123, group_members))  # Outputs: ['abc', 'bcd']\n"
   ]
  },
  {
   "cell_type": "code",
   "execution_count": 9,
   "metadata": {},
   "outputs": [
    {
     "ename": "TypeError",
     "evalue": "__init__() missing 1 required positional argument: 'update_queue'",
     "output_type": "error",
     "traceback": [
      "\u001b[0;31m---------------------------------------------------------------------------\u001b[0m",
      "\u001b[0;31mTypeError\u001b[0m                                 Traceback (most recent call last)",
      "Cell \u001b[0;32mIn[9], line 59\u001b[0m\n\u001b[1;32m     56\u001b[0m     updater\u001b[39m.\u001b[39midle()\n\u001b[1;32m     58\u001b[0m \u001b[39mif\u001b[39;00m \u001b[39m__name__\u001b[39m \u001b[39m==\u001b[39m \u001b[39m'\u001b[39m\u001b[39m__main__\u001b[39m\u001b[39m'\u001b[39m:\n\u001b[0;32m---> 59\u001b[0m     main()\n",
      "Cell \u001b[0;32mIn[9], line 34\u001b[0m, in \u001b[0;36mmain\u001b[0;34m()\u001b[0m\n\u001b[1;32m     32\u001b[0m \u001b[39mdef\u001b[39;00m \u001b[39mmain\u001b[39m():\n\u001b[1;32m     33\u001b[0m     \u001b[39m# Create an Updater and pass in your bot's API token\u001b[39;00m\n\u001b[0;32m---> 34\u001b[0m     updater \u001b[39m=\u001b[39m Updater(\u001b[39m\"\u001b[39;49m\u001b[39m6824458601:AAGrOOx8Vr1Wenm0mKQJnhGog2HhrK6min4\u001b[39;49m\u001b[39m\"\u001b[39;49m)\n\u001b[1;32m     36\u001b[0m     \u001b[39m# Get the dispatcher to register handlers\u001b[39;00m\n\u001b[1;32m     37\u001b[0m     dp \u001b[39m=\u001b[39m updater\u001b[39m.\u001b[39mdispatcher\n",
      "\u001b[0;31mTypeError\u001b[0m: __init__() missing 1 required positional argument: 'update_queue'"
     ]
    }
   ],
   "source": [
    "from telegram import Update\n",
    "from telegram.ext import Updater, CommandHandler, MessageHandler, ConversationHandler, CallbackContext\n",
    "\n",
    "# Define conversation states\n",
    "INPUT_AMOUNT, INPUT_DESCRIPTION, INPUT_PAYER = range(3)\n",
    "\n",
    "# Initialize a dictionary to store expenses\n",
    "expenses = {}\n",
    "\n",
    "def start(update: Update, context: CallbackContext) -> int:\n",
    "    update.message.reply_text(\"Welcome to the Bill Splitting Bot! Please /addexpense to get started.\")\n",
    "    return INPUT_AMOUNT\n",
    "\n",
    "def add_expense(update: Update, context: CallbackContext) -> int:\n",
    "    update.message.reply_text(\"Enter the amount:\")\n",
    "    return INPUT_DESCRIPTION\n",
    "\n",
    "def input_description(update: Update, context: CallbackContext) -> int:\n",
    "    context.user_data['amount'] = float(update.message.text)\n",
    "    update.message.reply_text(\"Enter a description:\")\n",
    "    return INPUT_PAYER\n",
    "\n",
    "def input_payer(update: Update, context: CallbackContext) -> int:\n",
    "    context.user_data['description'] = update.message.text\n",
    "    update.message.reply_text(\"Who paid for this? (e.g., John)\")\n",
    "    return ConversationHandler.END\n",
    "\n",
    "def calculate(update: Update, context: CallbackContext):\n",
    "    total_expense = sum(expenses.values())\n",
    "    update.message.reply_text(\"Total expenses: ${:.2f}\".format(total_expense))\n",
    "\n",
    "def main():\n",
    "    # Create an Updater and pass in your bot's API token\n",
    "    updater = Updater(\"6824458601:AAGrOOx8Vr1Wenm0mKQJnhGog2HhrK6min4\")\n",
    "\n",
    "    # Get the dispatcher to register handlers\n",
    "    dp = updater.dispatcher\n",
    "\n",
    "    # Define conversation handler\n",
    "    conv_handler = ConversationHandler(\n",
    "        entry_points=[CommandHandler('addexpense', add_expense)],\n",
    "        states={\n",
    "            INPUT_AMOUNT: [MessageHandler(Filters.regex(r'^\\d+(\\.\\d{1,2})?$'), input_description)],\n",
    "            INPUT_DESCRIPTION: [MessageHandler(Filters.text, input_payer)],\n",
    "        },\n",
    "        fallbacks=[],\n",
    "    )\n",
    "\n",
    "    # Register conversation handler and command handlers\n",
    "    dp.add_handler(conv_handler)\n",
    "    dp.add_handler(CommandHandler('start', start))\n",
    "    dp.add_handler(CommandHandler('calculate', calculate))\n",
    "\n",
    "    # Start the Bot\n",
    "    updater.start_polling()\n",
    "    updater.idle()\n",
    "\n",
    "if __name__ == '__main__':\n",
    "    main()\n"
   ]
  }
 ],
 "metadata": {
  "kernelspec": {
   "display_name": "Python 3",
   "language": "python",
   "name": "python3"
  },
  "language_info": {
   "codemirror_mode": {
    "name": "ipython",
    "version": 3
   },
   "file_extension": ".py",
   "mimetype": "text/x-python",
   "name": "python",
   "nbconvert_exporter": "python",
   "pygments_lexer": "ipython3",
   "version": "3.12.0"
  },
  "orig_nbformat": 4
 },
 "nbformat": 4,
 "nbformat_minor": 2
}
